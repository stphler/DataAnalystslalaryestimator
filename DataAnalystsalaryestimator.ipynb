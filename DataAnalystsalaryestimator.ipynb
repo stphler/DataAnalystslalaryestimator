{
  "nbformat": 4,
  "nbformat_minor": 0,
  "metadata": {
    "colab": {
      "name": "DataAnalystsalaryestimator.ipynb",
      "provenance": [],
      "collapsed_sections": [],
      "authorship_tag": "ABX9TyN57ZNj0ARXSmM0UceS8Xyd",
      "include_colab_link": true
    },
    "kernelspec": {
      "name": "python3",
      "display_name": "Python 3"
    },
    "language_info": {
      "name": "python"
    }
  },
  "cells": [
    {
      "cell_type": "markdown",
      "metadata": {
        "id": "view-in-github",
        "colab_type": "text"
      },
      "source": [
        "<a href=\"https://colab.research.google.com/github/stphler/MR/blob/master/DataAnalystsalaryestimator.ipynb\" target=\"_parent\"><img src=\"https://colab.research.google.com/assets/colab-badge.svg\" alt=\"Open In Colab\"/></a>"
      ]
    },
    {
      "cell_type": "code",
      "metadata": {
        "id": "xmRlsA27eZ0P"
      },
      "source": [
        "import pandas as pd\n",
        "import numpy as np\n",
        "import os"
      ],
      "execution_count": 11,
      "outputs": []
    },
    {
      "cell_type": "markdown",
      "metadata": {
        "id": "_irCHkmZfBco"
      },
      "source": [
        "Installing the require libraries"
      ]
    },
    {
      "cell_type": "code",
      "metadata": {
        "id": "tBENDEOce0cb"
      },
      "source": [
        "!pip install beautifulsoup4"
      ],
      "execution_count": null,
      "outputs": []
    },
    {
      "cell_type": "code",
      "metadata": {
        "id": "p9UciMqOfcad"
      },
      "source": [
        "!pip install lxml"
      ],
      "execution_count": null,
      "outputs": []
    },
    {
      "cell_type": "code",
      "metadata": {
        "id": "Y4eCHetTfphp"
      },
      "source": [
        "import requests\n",
        "import re\n",
        "from bs4 import BeautifulSoup\n"
      ],
      "execution_count": 6,
      "outputs": []
    },
    {
      "cell_type": "code",
      "metadata": {
        "id": "vXUHyMxIvK_s"
      },
      "source": [
        "# Path of the file to read\n",
        "data_analyst_filepath = '/content/sample_data/DataAnalyst.csv'\n",
        "\n",
        "# Read the file into a variable data_analyst\n",
        "data_analyst = pd.read_csv(data_analyst_filepath)"
      ],
      "execution_count": 14,
      "outputs": []
    },
    {
      "cell_type": "code",
      "metadata": {
        "colab": {
          "base_uri": "https://localhost:8080/",
          "height": 547
        },
        "id": "O_evka-Lw6FG",
        "outputId": "97242d94-37ef-4806-c791-85a227dd4e51"
      },
      "source": [
        "# Print the first 5 rows of the data\n",
        "data_analyst.head()"
      ],
      "execution_count": 15,
      "outputs": [
        {
          "output_type": "execute_result",
          "data": {
            "text/html": [
              "<div>\n",
              "<style scoped>\n",
              "    .dataframe tbody tr th:only-of-type {\n",
              "        vertical-align: middle;\n",
              "    }\n",
              "\n",
              "    .dataframe tbody tr th {\n",
              "        vertical-align: top;\n",
              "    }\n",
              "\n",
              "    .dataframe thead th {\n",
              "        text-align: right;\n",
              "    }\n",
              "</style>\n",
              "<table border=\"1\" class=\"dataframe\">\n",
              "  <thead>\n",
              "    <tr style=\"text-align: right;\">\n",
              "      <th></th>\n",
              "      <th>Unnamed: 0</th>\n",
              "      <th>Job Title</th>\n",
              "      <th>Salary Estimate</th>\n",
              "      <th>Job Description</th>\n",
              "      <th>Rating</th>\n",
              "      <th>Company Name</th>\n",
              "      <th>Location</th>\n",
              "      <th>Headquarters</th>\n",
              "      <th>Size</th>\n",
              "      <th>Founded</th>\n",
              "      <th>Type of ownership</th>\n",
              "      <th>Industry</th>\n",
              "      <th>Sector</th>\n",
              "      <th>Revenue</th>\n",
              "      <th>Competitors</th>\n",
              "      <th>Easy Apply</th>\n",
              "    </tr>\n",
              "  </thead>\n",
              "  <tbody>\n",
              "    <tr>\n",
              "      <th>0</th>\n",
              "      <td>0</td>\n",
              "      <td>Data Analyst, Center on Immigration and Justic...</td>\n",
              "      <td>$37K-$66K (Glassdoor est.)</td>\n",
              "      <td>Are you eager to roll up your sleeves and harn...</td>\n",
              "      <td>3.2</td>\n",
              "      <td>Vera Institute of Justice\\n3.2</td>\n",
              "      <td>New York, NY</td>\n",
              "      <td>New York, NY</td>\n",
              "      <td>201 to 500 employees</td>\n",
              "      <td>1961</td>\n",
              "      <td>Nonprofit Organization</td>\n",
              "      <td>Social Assistance</td>\n",
              "      <td>Non-Profit</td>\n",
              "      <td>$100 to $500 million (USD)</td>\n",
              "      <td>-1</td>\n",
              "      <td>True</td>\n",
              "    </tr>\n",
              "    <tr>\n",
              "      <th>1</th>\n",
              "      <td>1</td>\n",
              "      <td>Quality Data Analyst</td>\n",
              "      <td>$37K-$66K (Glassdoor est.)</td>\n",
              "      <td>Overview\\n\\nProvides analytical and technical ...</td>\n",
              "      <td>3.8</td>\n",
              "      <td>Visiting Nurse Service of New York\\n3.8</td>\n",
              "      <td>New York, NY</td>\n",
              "      <td>New York, NY</td>\n",
              "      <td>10000+ employees</td>\n",
              "      <td>1893</td>\n",
              "      <td>Nonprofit Organization</td>\n",
              "      <td>Health Care Services &amp; Hospitals</td>\n",
              "      <td>Health Care</td>\n",
              "      <td>$2 to $5 billion (USD)</td>\n",
              "      <td>-1</td>\n",
              "      <td>-1</td>\n",
              "    </tr>\n",
              "    <tr>\n",
              "      <th>2</th>\n",
              "      <td>2</td>\n",
              "      <td>Senior Data Analyst, Insights &amp; Analytics Team...</td>\n",
              "      <td>$37K-$66K (Glassdoor est.)</td>\n",
              "      <td>We’re looking for a Senior Data Analyst who ha...</td>\n",
              "      <td>3.4</td>\n",
              "      <td>Squarespace\\n3.4</td>\n",
              "      <td>New York, NY</td>\n",
              "      <td>New York, NY</td>\n",
              "      <td>1001 to 5000 employees</td>\n",
              "      <td>2003</td>\n",
              "      <td>Company - Private</td>\n",
              "      <td>Internet</td>\n",
              "      <td>Information Technology</td>\n",
              "      <td>Unknown / Non-Applicable</td>\n",
              "      <td>GoDaddy</td>\n",
              "      <td>-1</td>\n",
              "    </tr>\n",
              "    <tr>\n",
              "      <th>3</th>\n",
              "      <td>3</td>\n",
              "      <td>Data Analyst</td>\n",
              "      <td>$37K-$66K (Glassdoor est.)</td>\n",
              "      <td>Requisition NumberRR-0001939\\nRemote:Yes\\nWe c...</td>\n",
              "      <td>4.1</td>\n",
              "      <td>Celerity\\n4.1</td>\n",
              "      <td>New York, NY</td>\n",
              "      <td>McLean, VA</td>\n",
              "      <td>201 to 500 employees</td>\n",
              "      <td>2002</td>\n",
              "      <td>Subsidiary or Business Segment</td>\n",
              "      <td>IT Services</td>\n",
              "      <td>Information Technology</td>\n",
              "      <td>$50 to $100 million (USD)</td>\n",
              "      <td>-1</td>\n",
              "      <td>-1</td>\n",
              "    </tr>\n",
              "    <tr>\n",
              "      <th>4</th>\n",
              "      <td>4</td>\n",
              "      <td>Reporting Data Analyst</td>\n",
              "      <td>$37K-$66K (Glassdoor est.)</td>\n",
              "      <td>ABOUT FANDUEL GROUP\\n\\nFanDuel Group is a worl...</td>\n",
              "      <td>3.9</td>\n",
              "      <td>FanDuel\\n3.9</td>\n",
              "      <td>New York, NY</td>\n",
              "      <td>New York, NY</td>\n",
              "      <td>501 to 1000 employees</td>\n",
              "      <td>2009</td>\n",
              "      <td>Company - Private</td>\n",
              "      <td>Sports &amp; Recreation</td>\n",
              "      <td>Arts, Entertainment &amp; Recreation</td>\n",
              "      <td>$100 to $500 million (USD)</td>\n",
              "      <td>DraftKings</td>\n",
              "      <td>True</td>\n",
              "    </tr>\n",
              "  </tbody>\n",
              "</table>\n",
              "</div>"
            ],
            "text/plain": [
              "   Unnamed: 0  ... Easy Apply\n",
              "0           0  ...       True\n",
              "1           1  ...         -1\n",
              "2           2  ...         -1\n",
              "3           3  ...         -1\n",
              "4           4  ...       True\n",
              "\n",
              "[5 rows x 16 columns]"
            ]
          },
          "metadata": {
            "tags": []
          },
          "execution_count": 15
        }
      ]
    }
  ]
}