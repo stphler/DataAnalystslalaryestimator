{
  "cells": [
    {
      "cell_type": "markdown",
      "metadata": {
        "id": "view-in-github",
        "colab_type": "text"
      },
      "source": [
        "<a href=\"https://colab.research.google.com/github/stphler/DataAnalystslalaryestimator/blob/master/Python_practical_exam_student_version.ipynb\" target=\"_parent\"><img src=\"https://colab.research.google.com/assets/colab-badge.svg\" alt=\"Open In Colab\"/></a>"
      ]
    },
    {
      "cell_type": "markdown",
      "metadata": {
        "id": "lvkkxv96pygV"
      },
      "source": [
        "# Python Practical Exam\n",
        "\n",
        "© Explore Data Science Academy \n",
        "## Instructions to students\n",
        "* **DO NOT ADD / REMOVE CELLS FROM THIS NOTEBOOK, AND DO NOT CHANGE THE NAMES OF THE FUNCTIONS REQUIRED FOR TESTING.**\n",
        "  \n",
        "* This exam consists of six questions. Each of the questions is independent and do not require you to use functions built from previous questions. You can answer the questions in any order you like.\n",
        "\n",
        "* Ensure that the answers to your questions do not contain `syntax` or `indentation` errors. Questions with these errors will break the auto grader and will mark the _**entire exam**_ as incorrect. The auto grader will give you an error message if this is the case. Use this error message to correct the offending code or comment it out before resubmitting.\n",
        "* You will be able to make _**multiple submissions**_ to the auto grader. Use this ability to check if a question you have answered is correct before proceeding to the next question.\n",
        "* Only place code in sections that contain the `# Your code here.` comment.\n",
        "* We have provided some expected outputs for your code. Use these to determine if your code behaves as intended.\n",
        "* Some questions may have multiple requirements. It is possible to receive partial marks in these questions, so if you get stuck, try to submit to the auto grader before moving on."
      ]
    },
    {
      "cell_type": "code",
      "execution_count": null,
      "metadata": {
        "id": "jslum0Igpyga"
      },
      "outputs": [],
      "source": [
        "import numpy as np\n",
        "import pandas as pd"
      ]
    },
    {
      "cell_type": "markdown",
      "metadata": {
        "id": "RLu49LI8pygb"
      },
      "source": [
        "## Section 1: Numerical computation\n",
        "### Question 1\n",
        "We have a rope and want to cut the rope into four pieces to make a square. Given a rope of length $x$, what is the largest square (by area) that can be built given that a side of the square, $s$, can only be integer values? Units of measurement can be ignored. We are only interested in the numerical value of the solution.\n",
        "<p align=\"center\">\n",
        "<img src=\"https://raw.githubusercontent.com/Explore-AI/Pictures/master/python_fundamentals/python_exam/Largest_Square_Rope.jpg\"\n",
        "     alt=\"Largest Square\"\n",
        "     style=\"float: center; padding-bottom=0.5em\"\n",
        "     width=700px/>\n",
        "     <br>\n",
        "     <em>Figure 1: Area of the largest square enclosed by a rope. </em>\n",
        "</p>    \n",
        "\n",
        "**Function specifications**\n",
        "\n",
        "*Argument(s):*\n",
        "\n",
        "- **x** `(float)` $\\rightarrow$ the length of the rope.\n",
        "\n",
        "*Return:* \n",
        "\n",
        "- **area** `(int)` $\\rightarrow$ the area of the square formed by the rope.\n",
        "\n",
        "> 💡**HINT**💡\n",
        ">\n",
        ">The perimeter of the square cannot exceed the length of the rope."
      ]
    },
    {
      "cell_type": "code",
      "execution_count": null,
      "metadata": {
        "id": "T1hafKuppygc"
      },
      "outputs": [],
      "source": [
        "### START FUNCTION\n",
        "def largest_square(x):\n",
        "    # Your code here.\n",
        "    s = float(x/4)\n",
        "    largest_square = int(s)**2\n",
        "    return largest_square\n",
        "### END FUNCTION"
      ]
    },
    {
      "cell_type": "code",
      "execution_count": null,
      "metadata": {
        "colab": {
          "base_uri": "https://localhost:8080/"
        },
        "id": "gFUDVy3lpygd",
        "outputId": "256a848b-34a4-4085-d419-79a30d6b5a66"
      },
      "outputs": [
        {
          "output_type": "execute_result",
          "data": {
            "text/plain": [
              "6561"
            ]
          },
          "metadata": {},
          "execution_count": 10
        }
      ],
      "source": [
        "largest_square(324)"
      ]
    },
    {
      "cell_type": "markdown",
      "metadata": {
        "id": "NPTSbWCepygd"
      },
      "source": [
        "_**Expected outputs:**_\n",
        "```python\n",
        "largest_square(12) == 9\n",
        "largest_square(41.5) == 100\n",
        "largest_square(324) == 6561\n",
        "```"
      ]
    },
    {
      "cell_type": "markdown",
      "metadata": {
        "id": "lc7qTfEMpyge"
      },
      "source": [
        "### Question 2\n",
        "Given a square matrix of size $n\\times n $ that only contains integers, compute the sum of the two diagonals. If the dimension of the square matrix is odd, make sure that you are not double-counting the value at the centre of the matrix.\n",
        "\n",
        "<p align=\"center\">\n",
        "<img src=\"https://raw.githubusercontent.com/Explore-AI/Pictures/master/python_fundamentals/python_exam/Sum_of_diagonals.jpg\"\n",
        "     alt=\"Sum of diagonals\"\n",
        "     style=\"float: center; padding-bottom=0.5em\"\n",
        "     width=50%/>\n",
        "     <br>\n",
        "     <em>Figure 2: Sum of diagonals.</em>\n",
        "</p>    \n",
        "\n",
        "\n",
        "**Function specifications**\n",
        "\n",
        "*Arguments:*\n",
        "- **matrix** `(numpy.ndarray)` $\\rightarrow$ input matrix to be used for computing the sum.\n",
        "\n",
        "*Return:*\n",
        "- **sum** `(int)` $\\rightarrow$  return the sum of the two diagonals.\n"
      ]
    },
    {
      "cell_type": "code",
      "execution_count": null,
      "metadata": {
        "id": "Y6ud38wJpygf"
      },
      "outputs": [],
      "source": [
        "### START FUNCTION\n",
        "def sum_of_diagonals(matrix):\n",
        "    # Your code here.\n",
        "    matrix = ((4,4))\n",
        "    b = np.asarray(matrix)\n",
        "    print('Diagonal (sum): ', np.trace(b))\n",
        "    print('Diagonal (elements): ', np.diagonal(b))\n",
        "    return sum_of_diagonals\n",
        "### END FUNCTION"
      ]
    },
    {
      "cell_type": "markdown",
      "source": [
        ""
      ],
      "metadata": {
        "id": "Az2X3r--tMPs"
      }
    },
    {
      "cell_type": "code",
      "execution_count": null,
      "metadata": {
        "colab": {
          "base_uri": "https://localhost:8080/",
          "height": 200
        },
        "id": "5cS9i8D_pygf",
        "outputId": "816d1dd7-c8aa-468a-c1f8-6fac255f34b9"
      },
      "outputs": [
        {
          "output_type": "error",
          "ename": "NameError",
          "evalue": "ignored",
          "traceback": [
            "\u001b[0;31m---------------------------------------------------------------------------\u001b[0m",
            "\u001b[0;31mNameError\u001b[0m                                 Traceback (most recent call last)",
            "\u001b[0;32m<ipython-input-14-6deaa9021d60>\u001b[0m in \u001b[0;36m<module>\u001b[0;34m()\u001b[0m\n\u001b[0;32m----> 1\u001b[0;31m \u001b[0mmatrix\u001b[0m \u001b[0;34m=\u001b[0m\u001b[0mnp\u001b[0m\u001b[0;34m.\u001b[0m\u001b[0mrandom\u001b[0m\u001b[0;34m.\u001b[0m\u001b[0mrandint\u001b[0m\u001b[0;34m(\u001b[0m\u001b[0;36m10\u001b[0m\u001b[0;34m,\u001b[0m\u001b[0msize\u001b[0m\u001b[0;34m=\u001b[0m\u001b[0;34m(\u001b[0m\u001b[0;36m4\u001b[0m\u001b[0;34m,\u001b[0m\u001b[0;36m4\u001b[0m\u001b[0;34m)\u001b[0m\u001b[0;34m)\u001b[0m\u001b[0;34m\u001b[0m\u001b[0;34m\u001b[0m\u001b[0m\n\u001b[0m\u001b[1;32m      2\u001b[0m \u001b[0mprint\u001b[0m\u001b[0;34m(\u001b[0m\u001b[0mmatrix\u001b[0m\u001b[0;34m)\u001b[0m\u001b[0;34m\u001b[0m\u001b[0;34m\u001b[0m\u001b[0m\n\u001b[1;32m      3\u001b[0m \u001b[0msum_of_diagonals\u001b[0m\u001b[0;34m(\u001b[0m\u001b[0mmatrix\u001b[0m\u001b[0;34m)\u001b[0m\u001b[0;34m\u001b[0m\u001b[0;34m\u001b[0m\u001b[0m\n",
            "\u001b[0;31mNameError\u001b[0m: name 'np' is not defined"
          ]
        }
      ],
      "source": [
        "matrix =np.random.randint(10,size=(4,4))\n",
        "print(matrix)\n",
        "sum_of_diagonals(matrix)"
      ]
    },
    {
      "cell_type": "markdown",
      "metadata": {
        "id": "Nu35Yupmpygg"
      },
      "source": [
        "_**Expected outputs:**_\n",
        "```python\n",
        "matrix = np.array([[7, 0, 8],\n",
        "                   [6, 9, 1],\n",
        "                   [3, 8, 4]])\n",
        "sum_of_diagonals(matrix)==31\n",
        "\n",
        "\n",
        "matrix = np.array([[4, 1, 1, 1],\n",
        "                   [1, 3, 8, 0],\n",
        "                   [0, 8, 5, 7],\n",
        "                   [1, 6, 1, 3]])\n",
        "sum_of_diagonals(matrix)==33\n",
        "```"
      ]
    },
    {
      "cell_type": "markdown",
      "metadata": {
        "id": "7M9dMlTapygg"
      },
      "source": [
        "## Section 2: Strings and lists\n",
        "\n",
        "### Question 3:\n",
        "\n",
        "Write a function that computes the ratio of vowels vs. consonants ($\\frac{vowels}{consonants}$) in a given sentence. The ratio should be given as a floating-point number rounded off to two decimal places. When writing your function, be sure to appropriately cater for the following punctuation marks:\n",
        "- apostrophes (')\n",
        "- quotations (\")\n",
        "- full stops (.)\n",
        "- commas (,)\n",
        "- exclamations (!)  \n",
        "- question marks (?)\n",
        "- colons (:)\n",
        "- semicolons (;)\n",
        "\n",
        "*Arguments:*\n",
        "- **sentence** `(string)` $\\rightarrow$ sentence required to compute the ratio.\n",
        "\n",
        "*Return:*\n",
        "- **ratio** `(float)` $\\rightarrow$ a ratio that describes the number of vowels to consonants: vowels/consonants.\n",
        "\n",
        "> 💡**HINT**💡\n",
        ">\n",
        ">Remember to cater for the white spaces that appear in your sentence."
      ]
    },
    {
      "cell_type": "code",
      "execution_count": null,
      "metadata": {
        "id": "3GMmwLcVpygh"
      },
      "outputs": [],
      "source": [
        "### START FUNCTION\n",
        "def vowel_consonant_ratio(sentence):\n",
        "\n",
        "    vowels = 0\n",
        "    consonant = 0\n",
        "    specialChar = 0\n",
        "\n",
        "    # sentennce.length() function to count\n",
        "    # number of character in given string.\n",
        "    for i in range(0, len(sentence)):\n",
        "      \n",
        "      ch = sentence[i]\n",
        "\n",
        "      if ( (ch >= 'a' and ch <= 'z') or\n",
        "        (ch >= 'A' and ch <= 'Z') ):\n",
        "\n",
        "        # To handle upper case letters\n",
        "        ch = ch.lower()\n",
        "\n",
        "        if (ch == 'a' or ch == 'e' or ch == 'i'\n",
        "              or ch == 'o' or ch == 'u'):\n",
        "          vowels += 1\n",
        "        else:\n",
        "          consonant += 1\n",
        "\n",
        "      else:\n",
        "        specialChar += 1\n",
        "      ratio = (vowels/consonant)\n",
        "\n",
        "    return (round(ratio, 2))\n",
        "### END FUNCTION"
      ]
    },
    {
      "cell_type": "code",
      "execution_count": null,
      "metadata": {
        "colab": {
          "base_uri": "https://localhost:8080/"
        },
        "id": "HkqI7y-ipygh",
        "outputId": "dcd54543-5a83-475c-c6dc-58302bf7f97f"
      },
      "outputs": [
        {
          "output_type": "execute_result",
          "data": {
            "text/plain": [
              "0.83"
            ]
          },
          "metadata": {},
          "execution_count": 30
        }
      ],
      "source": [
        "vowel_consonant_ratio(\"Thomas! Where have you been?\")"
      ]
    },
    {
      "cell_type": "markdown",
      "metadata": {
        "id": "vSbF6I-xpygi"
      },
      "source": [
        "***Expected outputs***\n",
        "\n",
        "```python\n",
        "vowel_consonant_ratio(\"This is a random sentence!\")==0.62\n",
        "vowel_consonant_ratio(\"Thomas! Where have you been?\")==0.83\n",
        "```"
      ]
    },
    {
      "cell_type": "markdown",
      "metadata": {
        "id": "MKOYELONpygi"
      },
      "source": [
        "### Question 4\n",
        "\n",
        "Write a function that will redact every third word in a sentence. Make use of the hashtag (`#`) symbol to redact the characters that make up the word, i.e. if the word is five characters long then a string of five hashtags should replace that word. However, this should not redact any of the following punctuation marks:\n",
        "- apostrophes (')\n",
        "- quotations (\")\n",
        "- full stops (.)\n",
        "- commas (,)\n",
        "- exclamations (!)  \n",
        "- question marks (?)\n",
        "- colons (:)\n",
        "- semicolons (;)\n",
        "\n",
        "*Arguments:*\n",
        "- **sentence** `(string)` $\\rightarrow$ sentence that needs to be redacted.\n",
        "\n",
        "*Return:*\n",
        "- **redacted sentence** `(string)`$\\rightarrow$ every third word should be redacted."
      ]
    },
    {
      "cell_type": "code",
      "execution_count": null,
      "metadata": {
        "id": "49yln0Jjpygi"
      },
      "outputs": [],
      "source": [
        "### START FUNCTION\n",
        "def redact_words(sentence):\n",
        "    # Your code here.\n",
        "    word = sentence.split()\n",
        "    specialChar = 0\n",
        "\n",
        "    # sentennce.split() function to count\n",
        "    # number of character in given string.\n",
        "    for i in range(0, len(word)):\n",
        "      \n",
        "      \n",
        "\n",
        "        \n",
        "    return redacted_sentence\n",
        "### END FUNCTION   "
      ]
    },
    {
      "cell_type": "code",
      "execution_count": null,
      "metadata": {
        "id": "1jbtzr1upygj"
      },
      "outputs": [],
      "source": [
        "sentence = \"Explorer, this is why you shouldn't come to a test unprepared.\"\n",
        "redact_words(sentence)"
      ]
    },
    {
      "cell_type": "markdown",
      "metadata": {
        "id": "5PiA8HRIpygj"
      },
      "source": [
        "***Expected outputs***\n",
        "\n",
        "```python\n",
        "sentence = \"My dear Explorer, do you understand the nature of the given question?\"\n",
        "redact_words(sentence) ==  'My dear ########, do you ########## the nature ## the given ########?'\n",
        "\n",
        "sentence = \"Explorer, this is why you shouldn't come to a test unprepared.\"\n",
        "redact_words(sentence)==\"Explorer, this ## why you #######'# come to # test unprepared.\"\n",
        "\n",
        "```"
      ]
    },
    {
      "cell_type": "markdown",
      "metadata": {
        "id": "Xhko7Wn0pygj"
      },
      "source": [
        "### Question 5\n",
        "\n",
        "Given an alphanumeric list, separate it into three different lists stored in a dictionary:\n",
        "\n",
        "- The first list should only contain lowercase letters.\n",
        "- The second list should only contain uppercase letters.\n",
        "- The third list should only contain numbers.\n",
        "\n",
        "Each list stored in the dictionary should be stored in ascending order. Use the following naming convention when creating your lists:\n",
        "- numbers\n",
        "- uppercase\n",
        "- lowercase\n",
        "\n",
        "Make sure that you adhere to the above instruction, as the name of your lists will be used to mark your function.\n",
        "\n",
        "*Arguments:*\n",
        "- **character_list:** `(list)` $\\rightarrow$ list of alphanumeric characters.\n",
        "\n",
        "*Return:*\n",
        "- **dictionary** `(dict)` $\\rightarrow$  dictionary containing all three lists."
      ]
    },
    {
      "cell_type": "code",
      "execution_count": 56,
      "metadata": {
        "id": "ChrFM4UBpygk"
      },
      "outputs": [],
      "source": [
        "### START FUNCTION\n",
        "def create_dictionary(character_list):\n",
        "    # Your code here.\n",
        "    uppercase, lowercase, numbers, = 0, 0, 0, \n",
        "    for i in range(len(character_list)):\n",
        "        if character_list[i] >= 'A' and character_list[i] <= 'Z': uppercase += 1\n",
        "        elif character_list[i] >= 'a' and character_list[i] <= 'z': lowercase += 1\n",
        "        else: numbers += 1\n",
        "\n",
        "        dictionary = {uppercase.sort(), lowercase.sort(), numbers.sort()}\n",
        "    return dictionary\n",
        "### END FUNCTION"
      ]
    },
    {
      "cell_type": "code",
      "execution_count": 57,
      "metadata": {
        "id": "sPjVIHi7pygk",
        "colab": {
          "base_uri": "https://localhost:8080/",
          "height": 304
        },
        "outputId": "bdc9f9ed-ebd3-4e03-bfae-d285bfd0d16f"
      },
      "outputs": [
        {
          "output_type": "error",
          "ename": "TypeError",
          "evalue": "ignored",
          "traceback": [
            "\u001b[0;31m---------------------------------------------------------------------------\u001b[0m",
            "\u001b[0;31mTypeError\u001b[0m                                 Traceback (most recent call last)",
            "\u001b[0;32m<ipython-input-57-97420d54d029>\u001b[0m in \u001b[0;36m<module>\u001b[0;34m()\u001b[0m\n\u001b[1;32m      1\u001b[0m \u001b[0mlst\u001b[0m \u001b[0;34m=\u001b[0m \u001b[0;34m[\u001b[0m\u001b[0;36m2\u001b[0m\u001b[0;34m,\u001b[0m\u001b[0;34m'j'\u001b[0m\u001b[0;34m,\u001b[0m\u001b[0;34m'K'\u001b[0m\u001b[0;34m,\u001b[0m\u001b[0;34m'o'\u001b[0m\u001b[0;34m,\u001b[0m\u001b[0;36m6\u001b[0m\u001b[0;34m,\u001b[0m\u001b[0;34m'x'\u001b[0m\u001b[0;34m,\u001b[0m\u001b[0;36m5\u001b[0m\u001b[0;34m,\u001b[0m\u001b[0;34m'A'\u001b[0m\u001b[0;34m,\u001b[0m\u001b[0;36m3.2\u001b[0m\u001b[0;34m]\u001b[0m\u001b[0;34m\u001b[0m\u001b[0;34m\u001b[0m\u001b[0m\n\u001b[0;32m----> 2\u001b[0;31m \u001b[0mcreate_dictionary\u001b[0m\u001b[0;34m(\u001b[0m\u001b[0mlst\u001b[0m\u001b[0;34m)\u001b[0m\u001b[0;34m\u001b[0m\u001b[0;34m\u001b[0m\u001b[0m\n\u001b[0m",
            "\u001b[0;32m<ipython-input-56-046add7819c3>\u001b[0m in \u001b[0;36mcreate_dictionary\u001b[0;34m(character_list)\u001b[0m\n\u001b[1;32m      4\u001b[0m     \u001b[0muppercase\u001b[0m\u001b[0;34m,\u001b[0m \u001b[0mlowercase\u001b[0m\u001b[0;34m,\u001b[0m \u001b[0mnumbers\u001b[0m\u001b[0;34m,\u001b[0m \u001b[0;34m=\u001b[0m \u001b[0;36m0\u001b[0m\u001b[0;34m,\u001b[0m \u001b[0;36m0\u001b[0m\u001b[0;34m,\u001b[0m \u001b[0;36m0\u001b[0m\u001b[0;34m,\u001b[0m\u001b[0;34m\u001b[0m\u001b[0;34m\u001b[0m\u001b[0m\n\u001b[1;32m      5\u001b[0m     \u001b[0;32mfor\u001b[0m \u001b[0mi\u001b[0m \u001b[0;32min\u001b[0m \u001b[0mrange\u001b[0m\u001b[0;34m(\u001b[0m\u001b[0mlen\u001b[0m\u001b[0;34m(\u001b[0m\u001b[0mcharacter_list\u001b[0m\u001b[0;34m)\u001b[0m\u001b[0;34m)\u001b[0m\u001b[0;34m:\u001b[0m\u001b[0;34m\u001b[0m\u001b[0;34m\u001b[0m\u001b[0m\n\u001b[0;32m----> 6\u001b[0;31m         \u001b[0;32mif\u001b[0m \u001b[0mcharacter_list\u001b[0m\u001b[0;34m[\u001b[0m\u001b[0mi\u001b[0m\u001b[0;34m]\u001b[0m \u001b[0;34m>=\u001b[0m \u001b[0;34m'A'\u001b[0m \u001b[0;32mand\u001b[0m \u001b[0mcharacter_list\u001b[0m\u001b[0;34m[\u001b[0m\u001b[0mi\u001b[0m\u001b[0;34m]\u001b[0m \u001b[0;34m<=\u001b[0m \u001b[0;34m'Z'\u001b[0m\u001b[0;34m:\u001b[0m \u001b[0muppercase\u001b[0m \u001b[0;34m+=\u001b[0m \u001b[0;36m1\u001b[0m\u001b[0;34m\u001b[0m\u001b[0;34m\u001b[0m\u001b[0m\n\u001b[0m\u001b[1;32m      7\u001b[0m         \u001b[0;32melif\u001b[0m \u001b[0mcharacter_list\u001b[0m\u001b[0;34m[\u001b[0m\u001b[0mi\u001b[0m\u001b[0;34m]\u001b[0m \u001b[0;34m>=\u001b[0m \u001b[0;34m'a'\u001b[0m \u001b[0;32mand\u001b[0m \u001b[0mcharacter_list\u001b[0m\u001b[0;34m[\u001b[0m\u001b[0mi\u001b[0m\u001b[0;34m]\u001b[0m \u001b[0;34m<=\u001b[0m \u001b[0;34m'z'\u001b[0m\u001b[0;34m:\u001b[0m \u001b[0mlowercase\u001b[0m \u001b[0;34m+=\u001b[0m \u001b[0;36m1\u001b[0m\u001b[0;34m\u001b[0m\u001b[0;34m\u001b[0m\u001b[0m\n\u001b[1;32m      8\u001b[0m         \u001b[0;32melse\u001b[0m\u001b[0;34m:\u001b[0m \u001b[0mnumbers\u001b[0m \u001b[0;34m+=\u001b[0m \u001b[0;36m1\u001b[0m\u001b[0;34m\u001b[0m\u001b[0;34m\u001b[0m\u001b[0m\n",
            "\u001b[0;31mTypeError\u001b[0m: '>=' not supported between instances of 'int' and 'str'"
          ]
        }
      ],
      "source": [
        "lst = [2,'j','K','o',6,'x',5,'A',3.2]\n",
        "create_dictionary(lst)"
      ]
    },
    {
      "cell_type": "markdown",
      "metadata": {
        "id": "EWcABmsBpygk"
      },
      "source": [
        "***Expected outputs***\n",
        "\n",
        "```python\n",
        "lst = [2,'j','K','o',6,'x',5,'A',3.2]\n",
        "create_dictionary(lst)\n",
        "\n",
        "{'numbers': [2, 3.2, 5, 6],\n",
        " 'uppercase': ['A', 'K'],\n",
        " 'lowercase': ['j', 'o', 'x']}\n",
        " ```\n",
        "\n"
      ]
    },
    {
      "cell_type": "markdown",
      "metadata": {
        "id": "9Sf_Kjenpygl"
      },
      "source": [
        "## Section 3: DataFrames\n",
        "You will need the below DataFrames to answer the following questions.\n",
        "\n",
        "_**DO NOT ALTER THESE DATAFRAMES, AS DOING SO CAN LEAD TO A NEGATIVE MARK.**_\n",
        "\n"
      ]
    },
    {
      "cell_type": "code",
      "execution_count": null,
      "metadata": {
        "id": "SM3ObJJ0pygl"
      },
      "outputs": [],
      "source": [
        "country_map_df = pd.read_csv('https://raw.githubusercontent.com/Explore-AI/Public-Data/master/AnalyseProject/country_code_map.csv', index_col='Country Code')\n",
        "population_df = pd.read_csv('https://raw.githubusercontent.com/Explore-AI/Public-Data/master/AnalyseProject/world_population.csv', index_col='Country Code')\n",
        "meta_df = pd.read_csv('https://raw.githubusercontent.com/Explore-AI/Public-Data/master/AnalyseProject/metadata.csv', index_col='Country Code')"
      ]
    },
    {
      "cell_type": "markdown",
      "metadata": {
        "id": "Xvorls6vpygl"
      },
      "source": [
        "_**DataFrame specifications:**_\n",
        "\n",
        "The DataFrames provide information about the population of the world for various years. Some things to note:\n",
        "* All DataFrames have a `Country Code` as an index, which is a three-letter code referring to a country.\n",
        "* The `country_map_df` data maps the `Country Code` to a `Country Name`.\n",
        "* The `population_df` data contains information on the population for a given country between the years 1960 and 2017.\n",
        "* The `meta_df` data contains meta-information about each country, including its geographical region, its income group, and a comment on the country as a whole."
      ]
    },
    {
      "cell_type": "markdown",
      "metadata": {
        "id": "6Q2iHCRXpygl"
      },
      "source": [
        "### Question 6\n",
        "\n",
        "Write a function that will return a list of countries for a specified region and income group. If the specified region and income group do not return a country, return `None` as the value.\n",
        "\n",
        "\n",
        "**Function specifications**\n",
        "\n",
        "*Argument(s):*\n",
        "- **region** `(string)` $\\rightarrow$ the region you want to query.\n",
        "- **income_group** `(string)` $\\rightarrow$ the income group you want to query.\n",
        "\n",
        "\n",
        "*Return:*\n",
        "- **countries** `(list)` $\\rightarrow$ return a list of countries that match the search criteria or **`None`** if no countries are found."
      ]
    },
    {
      "cell_type": "code",
      "execution_count": null,
      "metadata": {
        "id": "SRIVtysepygm"
      },
      "outputs": [],
      "source": [
        "### START FUNCTION\n",
        "def find_countries_by_region_and_income(region,income_group):\n",
        "    # Your code here.\n",
        "    meta_df.groupby(region,income_group)\n",
        "    return countries\n",
        "### END FUNCTION"
      ]
    },
    {
      "cell_type": "code",
      "execution_count": null,
      "metadata": {
        "colab": {
          "base_uri": "https://localhost:8080/",
          "height": 432
        },
        "id": "Uy0dulyzpygm",
        "outputId": "f81d5251-df01-4b4b-e9a1-2694491700ab"
      },
      "outputs": [
        {
          "output_type": "error",
          "ename": "ValueError",
          "evalue": "ignored",
          "traceback": [
            "\u001b[0;31m---------------------------------------------------------------------------\u001b[0m",
            "\u001b[0;31mKeyError\u001b[0m                                  Traceback (most recent call last)",
            "\u001b[0;32m/usr/local/lib/python3.7/dist-packages/pandas/core/generic.py\u001b[0m in \u001b[0;36m_get_axis_number\u001b[0;34m(cls, axis)\u001b[0m\n\u001b[1;32m    545\u001b[0m         \u001b[0;32mtry\u001b[0m\u001b[0;34m:\u001b[0m\u001b[0;34m\u001b[0m\u001b[0;34m\u001b[0m\u001b[0m\n\u001b[0;32m--> 546\u001b[0;31m             \u001b[0;32mreturn\u001b[0m \u001b[0mcls\u001b[0m\u001b[0;34m.\u001b[0m\u001b[0m_AXIS_TO_AXIS_NUMBER\u001b[0m\u001b[0;34m[\u001b[0m\u001b[0maxis\u001b[0m\u001b[0;34m]\u001b[0m\u001b[0;34m\u001b[0m\u001b[0;34m\u001b[0m\u001b[0m\n\u001b[0m\u001b[1;32m    547\u001b[0m         \u001b[0;32mexcept\u001b[0m \u001b[0mKeyError\u001b[0m\u001b[0;34m:\u001b[0m\u001b[0;34m\u001b[0m\u001b[0;34m\u001b[0m\u001b[0m\n",
            "\u001b[0;31mKeyError\u001b[0m: 'Upper middle income'",
            "\nDuring handling of the above exception, another exception occurred:\n",
            "\u001b[0;31mValueError\u001b[0m                                Traceback (most recent call last)",
            "\u001b[0;32m<ipython-input-42-e6fe06b864ab>\u001b[0m in \u001b[0;36m<module>\u001b[0;34m()\u001b[0m\n\u001b[0;32m----> 1\u001b[0;31m \u001b[0mcountries\u001b[0m \u001b[0;34m=\u001b[0m \u001b[0mfind_countries_by_region_and_income\u001b[0m\u001b[0;34m(\u001b[0m\u001b[0;34m'Sub-Saharan Africa'\u001b[0m\u001b[0;34m,\u001b[0m\u001b[0;34m'Upper middle income'\u001b[0m\u001b[0;34m)\u001b[0m\u001b[0;34m\u001b[0m\u001b[0;34m\u001b[0m\u001b[0m\n\u001b[0m\u001b[1;32m      2\u001b[0m \u001b[0mcountries\u001b[0m\u001b[0;34m\u001b[0m\u001b[0;34m\u001b[0m\u001b[0m\n",
            "\u001b[0;32m<ipython-input-35-882fc68c2cf9>\u001b[0m in \u001b[0;36mfind_countries_by_region_and_income\u001b[0;34m(region, income_group)\u001b[0m\n\u001b[1;32m      2\u001b[0m \u001b[0;32mdef\u001b[0m \u001b[0mfind_countries_by_region_and_income\u001b[0m\u001b[0;34m(\u001b[0m\u001b[0mregion\u001b[0m\u001b[0;34m,\u001b[0m\u001b[0mincome_group\u001b[0m\u001b[0;34m)\u001b[0m\u001b[0;34m:\u001b[0m\u001b[0;34m\u001b[0m\u001b[0;34m\u001b[0m\u001b[0m\n\u001b[1;32m      3\u001b[0m     \u001b[0;31m# Your code here.\u001b[0m\u001b[0;34m\u001b[0m\u001b[0;34m\u001b[0m\u001b[0;34m\u001b[0m\u001b[0m\n\u001b[0;32m----> 4\u001b[0;31m     \u001b[0mmeta_df\u001b[0m\u001b[0;34m.\u001b[0m\u001b[0mgroupby\u001b[0m\u001b[0;34m(\u001b[0m\u001b[0mregion\u001b[0m\u001b[0;34m,\u001b[0m\u001b[0mincome_group\u001b[0m\u001b[0;34m)\u001b[0m\u001b[0;34m\u001b[0m\u001b[0;34m\u001b[0m\u001b[0m\n\u001b[0m\u001b[1;32m      5\u001b[0m     \u001b[0;32mreturn\u001b[0m \u001b[0mcountries\u001b[0m\u001b[0;34m\u001b[0m\u001b[0;34m\u001b[0m\u001b[0m\n\u001b[1;32m      6\u001b[0m \u001b[0;31m### END FUNCTION\u001b[0m\u001b[0;34m\u001b[0m\u001b[0;34m\u001b[0m\u001b[0;34m\u001b[0m\u001b[0m\n",
            "\u001b[0;32m/usr/local/lib/python3.7/dist-packages/pandas/core/frame.py\u001b[0m in \u001b[0;36mgroupby\u001b[0;34m(self, by, axis, level, as_index, sort, group_keys, squeeze, observed, dropna)\u001b[0m\n\u001b[1;32m   7625\u001b[0m         \u001b[0;32mif\u001b[0m \u001b[0mlevel\u001b[0m \u001b[0;32mis\u001b[0m \u001b[0;32mNone\u001b[0m \u001b[0;32mand\u001b[0m \u001b[0mby\u001b[0m \u001b[0;32mis\u001b[0m \u001b[0;32mNone\u001b[0m\u001b[0;34m:\u001b[0m\u001b[0;34m\u001b[0m\u001b[0;34m\u001b[0m\u001b[0m\n\u001b[1;32m   7626\u001b[0m             \u001b[0;32mraise\u001b[0m \u001b[0mTypeError\u001b[0m\u001b[0;34m(\u001b[0m\u001b[0;34m\"You have to supply one of 'by' and 'level'\"\u001b[0m\u001b[0;34m)\u001b[0m\u001b[0;34m\u001b[0m\u001b[0;34m\u001b[0m\u001b[0m\n\u001b[0;32m-> 7627\u001b[0;31m         \u001b[0maxis\u001b[0m \u001b[0;34m=\u001b[0m \u001b[0mself\u001b[0m\u001b[0;34m.\u001b[0m\u001b[0m_get_axis_number\u001b[0m\u001b[0;34m(\u001b[0m\u001b[0maxis\u001b[0m\u001b[0;34m)\u001b[0m\u001b[0;34m\u001b[0m\u001b[0;34m\u001b[0m\u001b[0m\n\u001b[0m\u001b[1;32m   7628\u001b[0m \u001b[0;34m\u001b[0m\u001b[0m\n\u001b[1;32m   7629\u001b[0m         \u001b[0;31m# error: Argument \"squeeze\" to \"DataFrameGroupBy\" has incompatible type\u001b[0m\u001b[0;34m\u001b[0m\u001b[0;34m\u001b[0m\u001b[0;34m\u001b[0m\u001b[0m\n",
            "\u001b[0;32m/usr/local/lib/python3.7/dist-packages/pandas/core/generic.py\u001b[0m in \u001b[0;36m_get_axis_number\u001b[0;34m(cls, axis)\u001b[0m\n\u001b[1;32m    546\u001b[0m             \u001b[0;32mreturn\u001b[0m \u001b[0mcls\u001b[0m\u001b[0;34m.\u001b[0m\u001b[0m_AXIS_TO_AXIS_NUMBER\u001b[0m\u001b[0;34m[\u001b[0m\u001b[0maxis\u001b[0m\u001b[0;34m]\u001b[0m\u001b[0;34m\u001b[0m\u001b[0;34m\u001b[0m\u001b[0m\n\u001b[1;32m    547\u001b[0m         \u001b[0;32mexcept\u001b[0m \u001b[0mKeyError\u001b[0m\u001b[0;34m:\u001b[0m\u001b[0;34m\u001b[0m\u001b[0;34m\u001b[0m\u001b[0m\n\u001b[0;32m--> 548\u001b[0;31m             \u001b[0;32mraise\u001b[0m \u001b[0mValueError\u001b[0m\u001b[0;34m(\u001b[0m\u001b[0;34mf\"No axis named {axis} for object type {cls.__name__}\"\u001b[0m\u001b[0;34m)\u001b[0m\u001b[0;34m\u001b[0m\u001b[0;34m\u001b[0m\u001b[0m\n\u001b[0m\u001b[1;32m    549\u001b[0m \u001b[0;34m\u001b[0m\u001b[0m\n\u001b[1;32m    550\u001b[0m     \u001b[0;34m@\u001b[0m\u001b[0mfinal\u001b[0m\u001b[0;34m\u001b[0m\u001b[0;34m\u001b[0m\u001b[0m\n",
            "\u001b[0;31mValueError\u001b[0m: No axis named Upper middle income for object type DataFrame"
          ]
        }
      ],
      "source": [
        "countries = find_countries_by_region_and_income('Sub-Saharan Africa','Upper middle income')\n",
        "countries"
      ]
    },
    {
      "cell_type": "markdown",
      "metadata": {
        "id": "aZaSij0Rpygm"
      },
      "source": [
        "***Expected output***\n",
        "\n",
        "```python\n",
        "find_countries_by_region_and_income('South Asia','High income')==None\n",
        "find_countries_by_region_and_income('Europe & Central Asia','Low income')==['Tajikistan']\n",
        "find_countries_by_region_and_income('Sub-Saharan Africa','Upper middle income')==['Botswana','Gabon','Equatorial Guinea','Mauritius','Namibia','South Africa']\n",
        "```"
      ]
    },
    {
      "cell_type": "code",
      "execution_count": null,
      "metadata": {
        "id": "GSE7VrR1pygm"
      },
      "outputs": [],
      "source": [
        ""
      ]
    }
  ],
  "metadata": {
    "interpreter": {
      "hash": "6b5ebbc2c6bde2831bc6c0426f75aca8137ccfc69d329557556ed73faee126ae"
    },
    "kernelspec": {
      "display_name": "Python 3",
      "language": "python",
      "name": "python3"
    },
    "language_info": {
      "codemirror_mode": {
        "name": "ipython",
        "version": 3
      },
      "file_extension": ".py",
      "mimetype": "text/x-python",
      "name": "python",
      "nbconvert_exporter": "python",
      "pygments_lexer": "ipython3",
      "version": "3.8.8"
    },
    "colab": {
      "name": "Python_practical_exam_student_version.ipynb",
      "provenance": [],
      "include_colab_link": true
    }
  },
  "nbformat": 4,
  "nbformat_minor": 0
}